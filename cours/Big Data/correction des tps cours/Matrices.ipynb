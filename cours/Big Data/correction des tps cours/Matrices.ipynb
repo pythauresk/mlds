{
  "nbformat": 4,
  "nbformat_minor": 0,
  "metadata": {
    "colab": {
      "name": "Matrices.ipynb",
      "provenance": [],
      "collapsed_sections": [],
      "toc_visible": true
    },
    "kernelspec": {
      "name": "python3",
      "display_name": "Python 3"
    }
  },
  "cells": [
    {
      "cell_type": "markdown",
      "metadata": {
        "id": "mIJSf3Me1bnn"
      },
      "source": [
        "# Taille des matrices\n"
      ]
    },
    {
      "cell_type": "markdown",
      "metadata": {
        "id": "5wJT3sibhPPv"
      },
      "source": [
        "## Liste de listes"
      ]
    },
    {
      "cell_type": "code",
      "metadata": {
        "id": "pZUaxG0e1kZ-"
      },
      "source": [
        "l = [[1, 2, 3],\n",
        "     [4, 5, 6]]"
      ],
      "execution_count": null,
      "outputs": []
    },
    {
      "cell_type": "markdown",
      "metadata": {
        "id": "pjwLtRGA1sD7"
      },
      "source": [
        "## Format dense (NumPy)"
      ]
    },
    {
      "cell_type": "code",
      "metadata": {
        "id": "v6bcoJwkzCkm",
        "outputId": "9cb1936b-d619-4253-c835-c481fad94061",
        "colab": {
          "base_uri": "https://localhost:8080/",
          "height": 35
        }
      },
      "source": [
        "import numpy as np\n",
        "\n",
        "n = 1_000_000_000\n",
        "a = np.random.randint(low=n, high=2*n, size=(30, 50))\n",
        "\n",
        "print(a.nbytes)"
      ],
      "execution_count": null,
      "outputs": [
        {
          "output_type": "stream",
          "text": [
            "12000\n"
          ],
          "name": "stdout"
        }
      ]
    },
    {
      "cell_type": "code",
      "metadata": {
        "id": "z-BJEYQVgQFp",
        "outputId": "1d5ac0ce-ea9b-498b-a305-13d208ca686d",
        "colab": {
          "base_uri": "https://localhost:8080/",
          "height": 35
        }
      },
      "source": [
        "a.dtype"
      ],
      "execution_count": null,
      "outputs": [
        {
          "output_type": "execute_result",
          "data": {
            "text/plain": [
              "dtype('int64')"
            ]
          },
          "metadata": {
            "tags": []
          },
          "execution_count": 5
        }
      ]
    },
    {
      "cell_type": "code",
      "metadata": {
        "id": "g19JA-Of2hPP",
        "outputId": "c1ac854b-628f-436f-b8a2-9f7310a2c374",
        "colab": {
          "base_uri": "https://localhost:8080/",
          "height": 35
        }
      },
      "source": [
        "# calcul :\n",
        "64 * 30 * 50 # bits\n",
        "64 * 30 * 50 / 8 # octets\n",
        "\n",
        "# 8 bits = 1 octet = 1 bytes"
      ],
      "execution_count": null,
      "outputs": [
        {
          "output_type": "execute_result",
          "data": {
            "text/plain": [
              "12000.0"
            ]
          },
          "metadata": {
            "tags": []
          },
          "execution_count": 2
        }
      ]
    },
    {
      "cell_type": "markdown",
      "metadata": {
        "id": "eCl2QprOfKNP"
      },
      "source": [
        "On peut réduire la taille en changeant le type de chaque élément :"
      ]
    },
    {
      "cell_type": "code",
      "metadata": {
        "id": "3-zIo2u1e2c1",
        "outputId": "3995d478-27df-4bc7-b5f2-a70ea1b50297",
        "colab": {
          "base_uri": "https://localhost:8080/",
          "height": 35
        }
      },
      "source": [
        "a.astype('int32').nbytes"
      ],
      "execution_count": null,
      "outputs": [
        {
          "output_type": "execute_result",
          "data": {
            "text/plain": [
              "6000"
            ]
          },
          "metadata": {
            "tags": []
          },
          "execution_count": 6
        }
      ]
    },
    {
      "cell_type": "markdown",
      "metadata": {
        "id": "8IWYIraqfMRh"
      },
      "source": [
        "On peut stocker les nombres jusqu'à :"
      ]
    },
    {
      "cell_type": "code",
      "metadata": {
        "id": "oCH1q0-MfWQf",
        "outputId": "9342c055-c5ed-4e38-cbbc-aa9df9bf2c21",
        "colab": {
          "base_uri": "https://localhost:8080/",
          "height": 71
        }
      },
      "source": [
        "for dtype in ('int64', 'int32', 'int16'):\n",
        "  print(f\"{dtype} : {np.iinfo(a.astype(dtype).dtype).max}\")"
      ],
      "execution_count": null,
      "outputs": [
        {
          "output_type": "stream",
          "text": [
            "int64 : 9223372036854775807\n",
            "int32 : 2147483647\n",
            "int16 : 32767\n"
          ],
          "name": "stdout"
        }
      ]
    },
    {
      "cell_type": "code",
      "metadata": {
        "id": "gXON4PAFiRq_",
        "outputId": "bd134ea2-9488-4cff-fdc3-6efe596c8bd1",
        "colab": {
          "base_uri": "https://localhost:8080/",
          "height": 71
        }
      },
      "source": [
        "for dtype in ('int64', 'int32', 'int16'):\n",
        "  print(f\"{dtype} : {np.iinfo(a.astype(dtype).dtype).min}\")"
      ],
      "execution_count": null,
      "outputs": [
        {
          "output_type": "stream",
          "text": [
            "int64 : -9223372036854775808\n",
            "int32 : -2147483648\n",
            "int16 : -32768\n"
          ],
          "name": "stdout"
        }
      ]
    },
    {
      "cell_type": "markdown",
      "metadata": {
        "id": "2gsb_a1sf8sa"
      },
      "source": [
        "## Format textuel"
      ]
    },
    {
      "cell_type": "code",
      "metadata": {
        "id": "_4v97bG92bQk",
        "outputId": "7e9a4adc-37d7-4db8-a06a-61308aee8f41",
        "colab": {
          "base_uri": "https://localhost:8080/",
          "height": 35
        }
      },
      "source": [
        "np.savetxt(\"a.txt\", a, fmt='%i')\n",
        "! ls -lh a.txt"
      ],
      "execution_count": null,
      "outputs": [
        {
          "output_type": "stream",
          "text": [
            "-rw-r--r-- 1 root root 17K Oct 27 10:10 a.txt\n"
          ],
          "name": "stdout"
        }
      ]
    },
    {
      "cell_type": "code",
      "metadata": {
        "id": "ReMoZa7vihz2",
        "outputId": "3bca0ea4-fe2e-40cc-f204-97c06c2fb5e2",
        "colab": {
          "base_uri": "https://localhost:8080/",
          "height": 217
        }
      },
      "source": [
        "! head a.txt"
      ],
      "execution_count": null,
      "outputs": [
        {
          "output_type": "stream",
          "text": [
            "1759854683 1263449334 1671138775 1220098476 1085688407 1078777319 1357962593 1356228460 1931718796 1915864518 1342966990 1808003726 1144929608 1767815431 1469106986 1963102704 1721673078 1402693020 1871543596 1699144038 1475799997 1150801102 1045436975 1947320098 1863369590 1296472546 1748891290 1959861161 1756380772 1358303842 1067225329 1305745141 1234643268 1820434784 1389320056 1503340681 1841472281 1087528389 1321092885 1348738329 1734406021 1128878114 1376528439 1256142908 1291212735 1529913118 1843692210 1526635582 1916877390 1412037994\n",
            "1847138785 1775123017 1506779005 1811298405 1187386942 1859074534 1871382828 1043459160 1628778047 1785507575 1440076520 1711627416 1146967913 1209264265 1800754927 1627469135 1225063513 1654242268 1061128892 1271429382 1243745794 1746774953 1475794891 1465077609 1163045872 1638126830 1910953383 1584509615 1087425882 1604968103 1349739575 1614297629 1467490630 1855751516 1045360304 1475698237 1989857303 1721555997 1094403637 1176528371 1288365452 1582594338 1132355542 1983954781 1851860115 1533553811 1438646523 1492782191 1309206222 1666611180\n",
            "1792950017 1959429568 1600613703 1307674759 1243875917 1450129256 1840829020 1812338424 1828376425 1862714871 1619391677 1022488238 1032868540 1026771297 1701100672 1183901927 1584870266 1884871812 1178420220 1800658676 1130591276 1630398235 1247166729 1986910455 1767145472 1841197200 1220342565 1949059701 1808595665 1793146998 1193288955 1454788469 1401873850 1006013555 1581358818 1858799823 1996032706 1791558966 1610695195 1954386968 1495802795 1804032586 1497516031 1416505964 1101105346 1458262476 1925130856 1808811815 1805622362 1671367955\n",
            "1897959450 1645554937 1118840860 1458395228 1874638720 1683634525 1385698625 1176683900 1908335706 1344186849 1262719099 1852672567 1777474411 1902988220 1021226834 1738917731 1785324734 1108635550 1000319289 1080725450 1849687458 1032200290 1395207699 1529180605 1751526640 1201777302 1840560145 1864652693 1763472942 1037889217 1242773230 1913004842 1134781349 1144959017 1065587077 1855449675 1053415774 1095059685 1118530034 1795210043 1074706255 1503024607 1288292409 1617471080 1026106567 1342814182 1746679552 1795466640 1779929327 1723355567\n",
            "1622576807 1134919112 1866899445 1582016602 1603136320 1267144341 1997374583 1574324606 1421276995 1772589175 1396019421 1033355231 1328615923 1952141701 1296891868 1346904774 1930719573 1605530835 1517790425 1866873495 1063599598 1857813947 1235371182 1454766670 1184608981 1592136134 1769528640 1885304098 1070303039 1516113242 1753998646 1320002417 1661035212 1321792943 1909744209 1328543689 1886051567 1750050523 1502563444 1092911963 1485382059 1316004580 1182698214 1269618179 1853018502 1651901269 1352602382 1422621776 1512174070 1618302751\n",
            "1623617938 1847113236 1703380477 1993653470 1997508875 1756462353 1523144048 1567062923 1884200466 1356252793 1803065412 1979788744 1446513315 1553543041 1423259524 1658694993 1195183404 1207113489 1134272716 1704886775 1370947049 1591639844 1888660725 1842820971 1781565151 1880521371 1732629694 1995418697 1505142349 1098466171 1842272914 1414371782 1482871044 1898492567 1670085774 1643618593 1603805554 1783366127 1020027474 1536354907 1973711499 1146249518 1701550035 1362017472 1627936940 1540729483 1291013489 1530473127 1658935036 1977694828\n",
            "1702284239 1612868550 1015056908 1155608865 1030051872 1568083783 1293378257 1813317304 1444828094 1713433426 1958387862 1936851455 1922422424 1205905117 1229464458 1509982330 1260574016 1787814161 1814224939 1038737104 1356102367 1412789421 1055551335 1455414485 1781199795 1229067047 1190218287 1347779522 1238979019 1116698580 1695554539 1917622888 1721334356 1741125565 1510210991 1781679781 1195619047 1839798068 1799548685 1346091572 1000264694 1715388703 1255560625 1073159741 1868959430 1553844771 1196333820 1796286436 1756161848 1515410644\n",
            "1157876088 1710406092 1034734398 1719656618 1800227367 1646679844 1800047273 1319716460 1810863966 1228401596 1556682764 1864511235 1321872014 1032067085 1283858073 1249457253 1686242343 1814602884 1939412306 1051451823 1346380834 1514407417 1841950097 1822498529 1998927830 1750699045 1322954352 1295789353 1801527456 1245780799 1133615903 1589439371 1723368231 1923986066 1396104267 1945788799 1384521308 1280177644 1200977081 1382506363 1578264549 1424799346 1457993041 1292877865 1407265478 1264039533 1576140751 1103417893 1822171735 1912425227\n",
            "1922828943 1862955143 1792113118 1435625305 1979097866 1642165794 1835643527 1020043007 1131334176 1352631311 1681886533 1553394577 1342830445 1089060337 1601446403 1682062904 1743022768 1396709224 1548487029 1979289869 1617857983 1861204771 1596461710 1338143993 1980411104 1514871911 1684781881 1662664542 1987479335 1923935044 1502491112 1780131561 1100776948 1077836185 1045914736 1276120561 1742365643 1814801856 1677578844 1303094118 1743241475 1231551909 1423319534 1712468578 1445268070 1689398403 1121183291 1935572730 1973269945 1288941080\n",
            "1642403429 1019226171 1153191169 1927043460 1524433058 1510801818 1181513352 1373472275 1262714680 1322371628 1439249217 1572853183 1848650312 1062805294 1451909430 1088193018 1646434742 1933368792 1319951921 1488233397 1766392221 1297950390 1400122638 1977031825 1729877540 1022141387 1984369687 1128995185 1837506143 1268411351 1368626066 1651178514 1974732928 1544217557 1504993070 1052583424 1972463643 1674628836 1922346698 1326048872 1733105932 1887524126 1948931510 1671437233 1616136914 1407264250 1576718814 1451942621 1296403000 1798128082\n"
          ],
          "name": "stdout"
        }
      ]
    },
    {
      "cell_type": "markdown",
      "metadata": {
        "id": "_g2F3F0J13VU"
      },
      "source": [
        "## Format sparse (SciPy)"
      ]
    },
    {
      "cell_type": "code",
      "metadata": {
        "id": "WCi74HNf-ogz",
        "outputId": "748218e3-1edb-4040-e775-8f52118ad270",
        "colab": {
          "base_uri": "https://localhost:8080/",
          "height": 53
        }
      },
      "source": [
        "from scipy.sparse import csr_matrix\n",
        "\n",
        "\n",
        "data = np.array([5, 6, 8])\n",
        "row = np.array([63, 67, 70])\n",
        "col = np.array([27, 29, 35])\n",
        "\n",
        "m = csr_matrix((data, (row, col)), shape=(3000, 4000))\n",
        "m"
      ],
      "execution_count": null,
      "outputs": [
        {
          "output_type": "execute_result",
          "data": {
            "text/plain": [
              "<3000x4000 sparse matrix of type '<class 'numpy.longlong'>'\n",
              "\twith 3 stored elements in Compressed Sparse Row format>"
            ]
          },
          "metadata": {
            "tags": []
          },
          "execution_count": 8
        }
      ]
    },
    {
      "cell_type": "markdown",
      "metadata": {
        "id": "sRJxzqssgui1"
      },
      "source": [
        "À comparer avec une matrice dense :"
      ]
    },
    {
      "cell_type": "code",
      "metadata": {
        "id": "DLkrXVWd_t2q"
      },
      "source": [
        "a = m.toarray()"
      ],
      "execution_count": null,
      "outputs": []
    },
    {
      "cell_type": "code",
      "metadata": {
        "id": "OM_m2rr4AiSo",
        "outputId": "2e451b66-15b8-415e-c457-8af96ad6a5a6",
        "colab": {
          "base_uri": "https://localhost:8080/",
          "height": 35
        }
      },
      "source": [
        "a.nbytes"
      ],
      "execution_count": null,
      "outputs": [
        {
          "output_type": "execute_result",
          "data": {
            "text/plain": [
              "96000000"
            ]
          },
          "metadata": {
            "tags": []
          },
          "execution_count": 10
        }
      ]
    },
    {
      "cell_type": "markdown",
      "metadata": {
        "id": "Jq4wUtyXg8zU"
      },
      "source": [
        "# Temps de calcul"
      ]
    },
    {
      "cell_type": "code",
      "metadata": {
        "id": "LKHQdXSxBzfH"
      },
      "source": [
        "x = np.zeros(shape=(3000, 4000))"
      ],
      "execution_count": null,
      "outputs": []
    },
    {
      "cell_type": "markdown",
      "metadata": {
        "id": "q-TzUNcAiRW3"
      },
      "source": [
        "## Boucle"
      ]
    },
    {
      "cell_type": "code",
      "metadata": {
        "id": "FNQxbhe3BnUR",
        "outputId": "d858cb79-d90d-4555-e144-2b5fb10ba87f",
        "colab": {
          "base_uri": "https://localhost:8080/",
          "height": 53
        }
      },
      "source": [
        "%%time\n",
        "\n",
        "for i in range(0, 3000):\n",
        "  for j in range(0, 4000):\n",
        "    x[i, j] = 3 * a[i, j]"
      ],
      "execution_count": null,
      "outputs": [
        {
          "output_type": "stream",
          "text": [
            "CPU times: user 7.77 s, sys: 0 ns, total: 7.77 s\n",
            "Wall time: 7.78 s\n"
          ],
          "name": "stdout"
        }
      ]
    },
    {
      "cell_type": "markdown",
      "metadata": {
        "id": "3Jl1yNtKiVGS"
      },
      "source": [
        "## Multiplication matrice dense"
      ]
    },
    {
      "cell_type": "code",
      "metadata": {
        "id": "cski9wNVCGCV",
        "outputId": "b78d49ee-eb98-428d-839e-be96719a6561",
        "colab": {
          "base_uri": "https://localhost:8080/",
          "height": 53
        }
      },
      "source": [
        "%%time\n",
        "\n",
        "x = 3 * a"
      ],
      "execution_count": null,
      "outputs": [
        {
          "output_type": "stream",
          "text": [
            "CPU times: user 17 ms, sys: 49 ms, total: 66 ms\n",
            "Wall time: 71.6 ms\n"
          ],
          "name": "stdout"
        }
      ]
    },
    {
      "cell_type": "markdown",
      "metadata": {
        "id": "A4pPUpk9ienx"
      },
      "source": [
        "## Multiplication matrice sparse"
      ]
    },
    {
      "cell_type": "markdown",
      "metadata": {
        "id": "45MjbFbbi1Lh"
      },
      "source": [
        "### Cas d'une matrice pleine"
      ]
    },
    {
      "cell_type": "code",
      "metadata": {
        "id": "lOjP9YhVhw7P"
      },
      "source": [
        "from scipy.sparse import random\n",
        "\n",
        "m = random(3000, 4000, density=1)"
      ],
      "execution_count": null,
      "outputs": []
    },
    {
      "cell_type": "code",
      "metadata": {
        "id": "p2l4qvo4CNwi",
        "outputId": "f06f504c-93b7-4772-b5a3-d95ab7a2ae2b",
        "colab": {
          "base_uri": "https://localhost:8080/",
          "height": 53
        }
      },
      "source": [
        "%%time\n",
        "\n",
        "x = 3 * m"
      ],
      "execution_count": null,
      "outputs": [
        {
          "output_type": "stream",
          "text": [
            "CPU times: user 83.7 ms, sys: 43.9 ms, total: 128 ms\n",
            "Wall time: 132 ms\n"
          ],
          "name": "stdout"
        }
      ]
    },
    {
      "cell_type": "markdown",
      "metadata": {
        "id": "M9lJt217i5ZA"
      },
      "source": [
        "### Cas d'une matrice creuse"
      ]
    },
    {
      "cell_type": "code",
      "metadata": {
        "id": "_aIUeVlLCsHj"
      },
      "source": [
        "m = random(3000, 4000, density=0.01)"
      ],
      "execution_count": null,
      "outputs": []
    },
    {
      "cell_type": "code",
      "metadata": {
        "id": "VcEdDSPHDGR_",
        "outputId": "c5e87c82-b357-4b58-a000-730b183316a5",
        "colab": {
          "base_uri": "https://localhost:8080/",
          "height": 53
        }
      },
      "source": [
        "%%time\n",
        "\n",
        "x = 3 * m"
      ],
      "execution_count": null,
      "outputs": [
        {
          "output_type": "stream",
          "text": [
            "CPU times: user 1.16 ms, sys: 965 µs, total: 2.13 ms\n",
            "Wall time: 2.16 ms\n"
          ],
          "name": "stdout"
        }
      ]
    },
    {
      "cell_type": "markdown",
      "metadata": {
        "id": "KNwKbd-ckLdK"
      },
      "source": [
        "# Résumé"
      ]
    },
    {
      "cell_type": "markdown",
      "metadata": {
        "id": "uMZNwNn7ETO_"
      },
      "source": [
        "Il y a 3 façons principales de stocker des tableaux :\n",
        "- (a) Python sous forme de liste de listes\n",
        "- (b) Sous forme de matrice dense : numpy.array\n",
        "- (c) Sous forme de matrice sparse (creuse) : scipy.sparse\n",
        "\n",
        "\n",
        "Deux éléments importants :\n",
        "- en termes de mémoire\n",
        "- en terme de temps de calcul\n",
        "\n",
        "\n",
        "En mémoire :\n",
        "- (a) -> prend beaucoup de place parce qu'il faut stocker les headers (type d'objet, par exemple int) de chaque élément\n",
        "- (b) -> prend nombre d'éléments * taille d'un élément\n",
        "- (c) -> prend le nombre d'éléments non nul * taille d'un élément + nombre d'indices lignes * taille d'un indice + nombre d'indices colonnes * taille d'un indice -> environ 3 * taille d'un élément * nombre d'éléments stockés\n",
        "\n",
        "\n",
        "En calcul :\n",
        "- En Python : lent parce qu'une boucle Python est lente (il faut à chaque fois que Python regarde quel est le type d'objet, et se déplace dans la mémoire pour obtenir la valeur numérique correspondant à l'objet Python)\n",
        "- (b) : très rapide parce que instructions en C et Fortran et utilisation optimale des caches CPU et des instruction SIMD (plusieurs calculs en une seule instruction Assembleur)\n",
        "- (c) : très rapide, et surtout si peu d'éléments\n"
      ]
    },
    {
      "cell_type": "code",
      "metadata": {
        "id": "mfZTO0mVERth"
      },
      "source": [
        ""
      ],
      "execution_count": null,
      "outputs": []
    }
  ]
}