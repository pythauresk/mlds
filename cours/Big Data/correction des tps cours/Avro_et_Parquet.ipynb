{
  "nbformat": 4,
  "nbformat_minor": 0,
  "metadata": {
    "colab": {
      "name": "Avro et Parquet.ipynb",
      "provenance": [],
      "collapsed_sections": [],
      "toc_visible": true
    },
    "kernelspec": {
      "name": "python3",
      "display_name": "Python 3"
    }
  },
  "cells": [
    {
      "cell_type": "markdown",
      "metadata": {
        "id": "83Hh5mCWsThI"
      },
      "source": [
        "# Parquet et Avro\n"
      ]
    },
    {
      "cell_type": "markdown",
      "metadata": {
        "id": "c2lu0mp4kVYq"
      },
      "source": [
        "## Avro"
      ]
    },
    {
      "cell_type": "markdown",
      "metadata": {
        "id": "1JpB_04GkbPI"
      },
      "source": [
        "### Définir un schema Avro"
      ]
    },
    {
      "cell_type": "code",
      "metadata": {
        "id": "GvFqxHVHr3L5",
        "outputId": "066274ea-f1bc-4e3c-f8fa-9788d7a04290",
        "colab": {
          "base_uri": "https://localhost:8080/",
          "height": 127
        }
      },
      "source": [
        "!pip install fastavro"
      ],
      "execution_count": 1,
      "outputs": [
        {
          "output_type": "stream",
          "text": [
            "Collecting fastavro\n",
            "\u001b[?25l  Downloading https://files.pythonhosted.org/packages/3c/47/1ce5e783fd7ecabcda82c6cb35c79779c747e77d23e459d46ece529392db/fastavro-1.0.0.post1-cp36-cp36m-manylinux2014_x86_64.whl (1.4MB)\n",
            "\u001b[K     |████████████████████████████████| 1.4MB 2.8MB/s \n",
            "\u001b[?25hInstalling collected packages: fastavro\n",
            "Successfully installed fastavro-1.0.0.post1\n"
          ],
          "name": "stdout"
        }
      ]
    },
    {
      "cell_type": "code",
      "metadata": {
        "id": "N4BX8YaPsFcu"
      },
      "source": [
        "from fastavro import writer, reader, parse_schema\n",
        "\n",
        "schema = {\n",
        "    'doc': 'A weather reading.',\n",
        "    'name': 'Weather',\n",
        "    'namespace': 'test',\n",
        "    'type': 'record',\n",
        "    'fields': [\n",
        "        {'name': 'station', 'type': 'string'},\n",
        "        {'name': 'time', 'type': 'long'},\n",
        "        {'name': 'temp', 'type': 'int'},\n",
        "    ],\n",
        "}"
      ],
      "execution_count": 2,
      "outputs": []
    },
    {
      "cell_type": "markdown",
      "metadata": {
        "id": "BJ9jIHY9suVC"
      },
      "source": [
        "### Ecrire des records dans un fichier Avro"
      ]
    },
    {
      "cell_type": "code",
      "metadata": {
        "id": "vBlOIAkrsy0w"
      },
      "source": [
        "parsed_schema = parse_schema(schema)\n",
        "\n",
        "# 'records' can be an iterable (including generator)\n",
        "records = [\n",
        "    {u'station': u'011990-99999', u'temp': 0, u'time': 1433269388},\n",
        "    {u'station': u'011990-99999', u'temp': 22, u'time': 1433270389},\n",
        "    {u'station': u'011990-99999', u'temp': -11, u'time': 1433273379},\n",
        "    {u'station': u'012650-99999', u'temp': 111, u'time': 1433275478},\n",
        "]\n",
        "\n",
        "# Writing\n",
        "with open('weather.avro', 'wb') as out:\n",
        "    writer(out, parsed_schema, records)"
      ],
      "execution_count": 3,
      "outputs": []
    },
    {
      "cell_type": "code",
      "metadata": {
        "id": "q_SA4n0ZU9pk",
        "outputId": "e2308e1d-8ef7-475f-9fc3-82c28ae236d7",
        "colab": {
          "base_uri": "https://localhost:8080/",
          "height": 71
        }
      },
      "source": [
        "!ls -lh "
      ],
      "execution_count": 4,
      "outputs": [
        {
          "output_type": "stream",
          "text": [
            "total 8.0K\n",
            "drwxr-xr-x 1 root root 4.0K Oct 14 16:31 sample_data\n",
            "-rw-r--r-- 1 root root  337 Oct 27 09:11 weather.avro\n"
          ],
          "name": "stdout"
        }
      ]
    },
    {
      "cell_type": "markdown",
      "metadata": {
        "id": "cvNC2lHAs6PM"
      },
      "source": [
        "### Lire le fichier Avro précédemment enregistré"
      ]
    },
    {
      "cell_type": "code",
      "metadata": {
        "id": "sBBEPjZJs6dV",
        "outputId": "88f5da8e-091e-4d0d-df05-a81bc5f7caac",
        "colab": {
          "base_uri": "https://localhost:8080/",
          "height": 89
        }
      },
      "source": [
        "with open('weather.avro', 'rb') as fo:\n",
        "    for record in reader(fo):\n",
        "        print(record)"
      ],
      "execution_count": 6,
      "outputs": [
        {
          "output_type": "stream",
          "text": [
            "{'station': '011990-99999', 'time': 1433269388, 'temp': 0}\n",
            "{'station': '011990-99999', 'time': 1433270389, 'temp': 22}\n",
            "{'station': '011990-99999', 'time': 1433273379, 'temp': -11}\n",
            "{'station': '012650-99999', 'time': 1433275478, 'temp': 111}\n"
          ],
          "name": "stdout"
        }
      ]
    },
    {
      "cell_type": "markdown",
      "metadata": {
        "id": "ilV5twkOtIFf"
      },
      "source": [
        "### Enregistrer une dataframe Pandas"
      ]
    },
    {
      "cell_type": "code",
      "metadata": {
        "id": "0qUymrY0tX1l",
        "outputId": "7ff48387-1325-420a-9928-7a984569b73c",
        "colab": {
          "base_uri": "https://localhost:8080/",
          "height": 307
        }
      },
      "source": [
        "!pip install pandavro"
      ],
      "execution_count": 8,
      "outputs": [
        {
          "output_type": "stream",
          "text": [
            "Collecting pandavro\n",
            "  Downloading https://files.pythonhosted.org/packages/9f/6d/cd1944c0851514636c696a18cb2d9f01b66d2b73bb0c5d5c29b2581fd311/pandavro-1.5.2.tar.gz\n",
            "Requirement already satisfied: fastavro>=0.14.11 in /usr/local/lib/python3.6/dist-packages (from pandavro) (1.0.0.post1)\n",
            "Requirement already satisfied: numpy>=1.7.0 in /usr/local/lib/python3.6/dist-packages (from pandavro) (1.18.5)\n",
            "Requirement already satisfied: pandas in /usr/local/lib/python3.6/dist-packages (from pandavro) (1.1.3)\n",
            "Requirement already satisfied: six>=1.9 in /usr/local/lib/python3.6/dist-packages (from pandavro) (1.15.0)\n",
            "Requirement already satisfied: pytz>=2017.2 in /usr/local/lib/python3.6/dist-packages (from pandas->pandavro) (2018.9)\n",
            "Requirement already satisfied: python-dateutil>=2.7.3 in /usr/local/lib/python3.6/dist-packages (from pandas->pandavro) (2.8.1)\n",
            "Building wheels for collected packages: pandavro\n",
            "  Building wheel for pandavro (setup.py) ... \u001b[?25l\u001b[?25hdone\n",
            "  Created wheel for pandavro: filename=pandavro-1.5.2-cp36-none-any.whl size=2956 sha256=c1f320dd2c2cab306751954acf9cfe41d3d189496b725851aff74ccf89260ac9\n",
            "  Stored in directory: /root/.cache/pip/wheels/9c/71/4f/f60022ad5c477241cb81edb1e29c50c55e98850224e0676ec6\n",
            "Successfully built pandavro\n",
            "Installing collected packages: pandavro\n",
            "Successfully installed pandavro-1.5.2\n"
          ],
          "name": "stdout"
        }
      ]
    },
    {
      "cell_type": "code",
      "metadata": {
        "id": "S2ckllFPteMJ"
      },
      "source": [
        "import numpy as np\n",
        "import pandas as pd\n",
        "import pandavro as pdx\n",
        "\n",
        "filename = \"df.avro\"\n",
        "\n",
        "df = pd.DataFrame({\"Boolean\": [True, False, True, False],\n",
        "                    \"Float64\": np.random.randn(4),\n",
        "                    \"Int64\": np.random.randint(0, 10, 4),\n",
        "                    \"String\": ['foo', 'bar', 'foo', 'bar'],\n",
        "                    \"DateTime64\": [pd.Timestamp('20190101'), pd.Timestamp('20190102'),\n",
        "                                  pd.Timestamp('20190103'), pd.Timestamp('20190104')]})\n",
        "\n",
        "pdx.to_avro(filename, df)"
      ],
      "execution_count": 9,
      "outputs": []
    },
    {
      "cell_type": "code",
      "metadata": {
        "id": "nxC5-TcsWFjs",
        "outputId": "71f09943-a478-4c2f-f4d3-e5177aa629b4",
        "colab": {
          "base_uri": "https://localhost:8080/",
          "height": 89
        }
      },
      "source": [
        "!ls -lh"
      ],
      "execution_count": 10,
      "outputs": [
        {
          "output_type": "stream",
          "text": [
            "total 12K\n",
            "-rw-r--r-- 1 root root  512 Oct 27 09:16 df.avro\n",
            "drwxr-xr-x 1 root root 4.0K Oct 14 16:31 sample_data\n",
            "-rw-r--r-- 1 root root  337 Oct 27 09:11 weather.avro\n"
          ],
          "name": "stdout"
        }
      ]
    },
    {
      "cell_type": "markdown",
      "metadata": {
        "id": "5dOPfBR4t6KY"
      },
      "source": [
        "### Lire le fichier Avro créé"
      ]
    },
    {
      "cell_type": "code",
      "metadata": {
        "id": "AT7WDq7otePK",
        "outputId": "b45a6a4b-4ba6-42dc-b694-0f7d398a100d",
        "colab": {
          "base_uri": "https://localhost:8080/",
          "height": 107
        }
      },
      "source": [
        "saved = pdx.read_avro(filename)\n",
        "print(saved)"
      ],
      "execution_count": 11,
      "outputs": [
        {
          "output_type": "stream",
          "text": [
            "   Boolean   Float64  Int64 String                DateTime64\n",
            "0     True -0.580502      1    foo 2019-01-01 00:00:00+00:00\n",
            "1    False  0.096166      9    bar 2019-01-02 00:00:00+00:00\n",
            "2     True -0.433939      2    foo 2019-01-03 00:00:00+00:00\n",
            "3    False  1.051204      2    bar 2019-01-04 00:00:00+00:00\n"
          ],
          "name": "stdout"
        }
      ]
    },
    {
      "cell_type": "markdown",
      "metadata": {
        "id": "MoreP4J2uJHd"
      },
      "source": [
        "## Parquet"
      ]
    },
    {
      "cell_type": "markdown",
      "metadata": {
        "id": "cM0oBh7kkieG"
      },
      "source": [
        "### Ecrire un fichier Parquet"
      ]
    },
    {
      "cell_type": "code",
      "metadata": {
        "id": "-dZpsDe0tOP0",
        "outputId": "1f63efc4-e1e0-408e-dbe8-f36a3c48bcb9",
        "colab": {
          "base_uri": "https://localhost:8080/",
          "height": 71
        }
      },
      "source": [
        "!pip install pyarrow"
      ],
      "execution_count": 12,
      "outputs": [
        {
          "output_type": "stream",
          "text": [
            "Requirement already satisfied: pyarrow in /usr/local/lib/python3.6/dist-packages (0.14.1)\n",
            "Requirement already satisfied: numpy>=1.14 in /usr/local/lib/python3.6/dist-packages (from pyarrow) (1.18.5)\n",
            "Requirement already satisfied: six>=1.0.0 in /usr/local/lib/python3.6/dist-packages (from pyarrow) (1.15.0)\n"
          ],
          "name": "stdout"
        }
      ]
    },
    {
      "cell_type": "code",
      "metadata": {
        "id": "-juJai1Ltdc0"
      },
      "source": [
        "import pyarrow as pa\n",
        "import pyarrow.parquet as pq\n",
        "\n",
        "table = pa.Table.from_pandas(df)\n",
        "pq.write_table(table, 'df.parquet')"
      ],
      "execution_count": 13,
      "outputs": []
    },
    {
      "cell_type": "code",
      "metadata": {
        "id": "QodnBYxrtUrS",
        "outputId": "ced94dc8-7b25-4f90-b53d-788dd3e50e09",
        "colab": {
          "base_uri": "https://localhost:8080/",
          "height": 107
        }
      },
      "source": [
        "!ls -lh"
      ],
      "execution_count": 14,
      "outputs": [
        {
          "output_type": "stream",
          "text": [
            "total 16K\n",
            "-rw-r--r-- 1 root root  512 Oct 27 09:16 df.avro\n",
            "-rw-r--r-- 1 root root 2.3K Oct 27 09:18 df.parquet\n",
            "drwxr-xr-x 1 root root 4.0K Oct 14 16:31 sample_data\n",
            "-rw-r--r-- 1 root root  337 Oct 27 09:11 weather.avro\n"
          ],
          "name": "stdout"
        }
      ]
    },
    {
      "cell_type": "markdown",
      "metadata": {
        "id": "AhuaggM7wABX"
      },
      "source": [
        "### Lire le fichier Parquet"
      ]
    },
    {
      "cell_type": "code",
      "metadata": {
        "id": "FIJPZtEQv-ze",
        "outputId": "99796df3-51a5-4ba7-b84a-9e950d9b9340",
        "colab": {
          "base_uri": "https://localhost:8080/",
          "height": 173
        }
      },
      "source": [
        "table2 = pq.read_table('df.parquet')\n",
        "table2.to_pandas()"
      ],
      "execution_count": 15,
      "outputs": [
        {
          "output_type": "execute_result",
          "data": {
            "text/html": [
              "<div>\n",
              "<style scoped>\n",
              "    .dataframe tbody tr th:only-of-type {\n",
              "        vertical-align: middle;\n",
              "    }\n",
              "\n",
              "    .dataframe tbody tr th {\n",
              "        vertical-align: top;\n",
              "    }\n",
              "\n",
              "    .dataframe thead th {\n",
              "        text-align: right;\n",
              "    }\n",
              "</style>\n",
              "<table border=\"1\" class=\"dataframe\">\n",
              "  <thead>\n",
              "    <tr style=\"text-align: right;\">\n",
              "      <th></th>\n",
              "      <th>Boolean</th>\n",
              "      <th>Float64</th>\n",
              "      <th>Int64</th>\n",
              "      <th>String</th>\n",
              "      <th>DateTime64</th>\n",
              "    </tr>\n",
              "  </thead>\n",
              "  <tbody>\n",
              "    <tr>\n",
              "      <th>0</th>\n",
              "      <td>True</td>\n",
              "      <td>-0.580502</td>\n",
              "      <td>1</td>\n",
              "      <td>foo</td>\n",
              "      <td>2019-01-01</td>\n",
              "    </tr>\n",
              "    <tr>\n",
              "      <th>1</th>\n",
              "      <td>False</td>\n",
              "      <td>0.096166</td>\n",
              "      <td>9</td>\n",
              "      <td>bar</td>\n",
              "      <td>2019-01-02</td>\n",
              "    </tr>\n",
              "    <tr>\n",
              "      <th>2</th>\n",
              "      <td>True</td>\n",
              "      <td>-0.433939</td>\n",
              "      <td>2</td>\n",
              "      <td>foo</td>\n",
              "      <td>2019-01-03</td>\n",
              "    </tr>\n",
              "    <tr>\n",
              "      <th>3</th>\n",
              "      <td>False</td>\n",
              "      <td>1.051204</td>\n",
              "      <td>2</td>\n",
              "      <td>bar</td>\n",
              "      <td>2019-01-04</td>\n",
              "    </tr>\n",
              "  </tbody>\n",
              "</table>\n",
              "</div>"
            ],
            "text/plain": [
              "   Boolean   Float64  Int64 String DateTime64\n",
              "0     True -0.580502      1    foo 2019-01-01\n",
              "1    False  0.096166      9    bar 2019-01-02\n",
              "2     True -0.433939      2    foo 2019-01-03\n",
              "3    False  1.051204      2    bar 2019-01-04"
            ]
          },
          "metadata": {
            "tags": []
          },
          "execution_count": 15
        }
      ]
    },
    {
      "cell_type": "markdown",
      "metadata": {
        "id": "RdW96_NjwNsi"
      },
      "source": [
        "### Lire un sous-ensemble de colonnes"
      ]
    },
    {
      "cell_type": "code",
      "metadata": {
        "id": "g8VBI3MKwURP",
        "outputId": "f0c22e0b-4b72-43ff-88c9-ce9eedd0a86e",
        "colab": {
          "base_uri": "https://localhost:8080/",
          "height": 173
        }
      },
      "source": [
        "pq.read_pandas('df.parquet', columns=['String', 'Int64']).to_pandas()"
      ],
      "execution_count": 16,
      "outputs": [
        {
          "output_type": "execute_result",
          "data": {
            "text/html": [
              "<div>\n",
              "<style scoped>\n",
              "    .dataframe tbody tr th:only-of-type {\n",
              "        vertical-align: middle;\n",
              "    }\n",
              "\n",
              "    .dataframe tbody tr th {\n",
              "        vertical-align: top;\n",
              "    }\n",
              "\n",
              "    .dataframe thead th {\n",
              "        text-align: right;\n",
              "    }\n",
              "</style>\n",
              "<table border=\"1\" class=\"dataframe\">\n",
              "  <thead>\n",
              "    <tr style=\"text-align: right;\">\n",
              "      <th></th>\n",
              "      <th>String</th>\n",
              "      <th>Int64</th>\n",
              "    </tr>\n",
              "  </thead>\n",
              "  <tbody>\n",
              "    <tr>\n",
              "      <th>0</th>\n",
              "      <td>foo</td>\n",
              "      <td>1</td>\n",
              "    </tr>\n",
              "    <tr>\n",
              "      <th>1</th>\n",
              "      <td>bar</td>\n",
              "      <td>9</td>\n",
              "    </tr>\n",
              "    <tr>\n",
              "      <th>2</th>\n",
              "      <td>foo</td>\n",
              "      <td>2</td>\n",
              "    </tr>\n",
              "    <tr>\n",
              "      <th>3</th>\n",
              "      <td>bar</td>\n",
              "      <td>2</td>\n",
              "    </tr>\n",
              "  </tbody>\n",
              "</table>\n",
              "</div>"
            ],
            "text/plain": [
              "  String  Int64\n",
              "0    foo      1\n",
              "1    bar      9\n",
              "2    foo      2\n",
              "3    bar      2"
            ]
          },
          "metadata": {
            "tags": []
          },
          "execution_count": 16
        }
      ]
    },
    {
      "cell_type": "markdown",
      "metadata": {
        "id": "plq655FlwjOB"
      },
      "source": [
        "## Comparaison Avro et Parquet"
      ]
    },
    {
      "cell_type": "code",
      "metadata": {
        "id": "tHI9rCaSwnj0",
        "outputId": "d9883f60-62b1-4993-ab88-b8b6f3a72504",
        "colab": {
          "base_uri": "https://localhost:8080/",
          "height": 107
        }
      },
      "source": [
        "!ls -lh"
      ],
      "execution_count": 17,
      "outputs": [
        {
          "output_type": "stream",
          "text": [
            "total 16K\n",
            "-rw-r--r-- 1 root root  512 Oct 27 09:16 df.avro\n",
            "-rw-r--r-- 1 root root 2.3K Oct 27 09:18 df.parquet\n",
            "drwxr-xr-x 1 root root 4.0K Oct 14 16:31 sample_data\n",
            "-rw-r--r-- 1 root root  337 Oct 27 09:11 weather.avro\n"
          ],
          "name": "stdout"
        }
      ]
    },
    {
      "cell_type": "code",
      "metadata": {
        "id": "-sZfpk1rwt3r",
        "outputId": "f8d2dc15-d850-48d9-a4b7-97430fb828ae",
        "colab": {
          "base_uri": "https://localhost:8080/",
          "height": 143
        }
      },
      "source": [
        "filename_avro = 'df_test.avro'\n",
        "filename_parquet = 'df_test.parquet'\n",
        "\n",
        "df = pd.DataFrame({'a': range(100000)})\n",
        "pdx.to_avro(filename_avro, df)\n",
        "pq.write_table(pa.Table.from_pandas(df), filename_parquet)\n",
        "\n",
        "!ls -lh"
      ],
      "execution_count": 14,
      "outputs": [
        {
          "output_type": "stream",
          "text": [
            "total 1000K\n",
            "-rw-r--r-- 1 root root  512 Oct 26 19:46 df.avro\n",
            "-rw-r--r-- 1 root root 2.3K Oct 26 19:46 df.parquet\n",
            "-rw-r--r-- 1 root root 384K Oct 26 19:46 df_test.avro\n",
            "-rw-r--r-- 1 root root 600K Oct 26 19:46 df_test.parquet\n",
            "drwxr-xr-x 1 root root 4.0K Oct 14 16:31 sample_data\n",
            "-rw-r--r-- 1 root root  337 Oct 26 19:46 weather.avro\n"
          ],
          "name": "stdout"
        }
      ]
    },
    {
      "cell_type": "code",
      "metadata": {
        "id": "C0j-EndHxJgc",
        "outputId": "d4fa463d-82d4-4e34-a807-92986e739fd7",
        "colab": {
          "base_uri": "https://localhost:8080/",
          "height": 143
        }
      },
      "source": [
        "df = pd.DataFrame({'a': (i % 2 for i in range(100000))})\n",
        "pdx.to_avro(filename_avro, df)\n",
        "pq.write_table(pa.Table.from_pandas(df), filename_parquet)\n",
        "\n",
        "!ls -lh"
      ],
      "execution_count": 15,
      "outputs": [
        {
          "output_type": "stream",
          "text": [
            "total 216K\n",
            "-rw-r--r-- 1 root root  512 Oct 26 19:46 df.avro\n",
            "-rw-r--r-- 1 root root 2.3K Oct 26 19:46 df.parquet\n",
            "-rw-r--r-- 1 root root 196K Oct 26 19:46 df_test.avro\n",
            "-rw-r--r-- 1 root root 1.4K Oct 26 19:46 df_test.parquet\n",
            "drwxr-xr-x 1 root root 4.0K Oct 14 16:31 sample_data\n",
            "-rw-r--r-- 1 root root  337 Oct 26 19:46 weather.avro\n"
          ],
          "name": "stdout"
        }
      ]
    },
    {
      "cell_type": "markdown",
      "metadata": {
        "id": "w85WKLEZct5p"
      },
      "source": [
        "## Compression avec Parquet\n"
      ]
    },
    {
      "cell_type": "code",
      "metadata": {
        "id": "pnIGMkFdcugf",
        "outputId": "323d476b-9218-4372-cb14-02eb17e49667",
        "colab": {
          "base_uri": "https://localhost:8080/",
          "height": 469
        }
      },
      "source": [
        "!apt-get install libsnappy-dev\n",
        "!pip install python-snappy"
      ],
      "execution_count": 17,
      "outputs": [
        {
          "output_type": "stream",
          "text": [
            "Reading package lists... Done\n",
            "Building dependency tree       \n",
            "Reading state information... Done\n",
            "The following NEW packages will be installed:\n",
            "  libsnappy-dev\n",
            "0 upgraded, 1 newly installed, 0 to remove and 21 not upgraded.\n",
            "Need to get 27.2 kB of archives.\n",
            "After this operation, 108 kB of additional disk space will be used.\n",
            "Get:1 http://archive.ubuntu.com/ubuntu bionic/main amd64 libsnappy-dev amd64 1.1.7-1 [27.2 kB]\n",
            "Fetched 27.2 kB in 1s (39.4 kB/s)\n",
            "Selecting previously unselected package libsnappy-dev:amd64.\n",
            "(Reading database ... 144611 files and directories currently installed.)\n",
            "Preparing to unpack .../libsnappy-dev_1.1.7-1_amd64.deb ...\n",
            "Unpacking libsnappy-dev:amd64 (1.1.7-1) ...\n",
            "Setting up libsnappy-dev:amd64 (1.1.7-1) ...\n",
            "Collecting python-snappy\n",
            "  Using cached https://files.pythonhosted.org/packages/45/35/65d9f8cc537129894b4b32647d80212d1fa342877581c5b8a69872cea8be/python-snappy-0.5.4.tar.gz\n",
            "Building wheels for collected packages: python-snappy\n",
            "  Building wheel for python-snappy (setup.py) ... \u001b[?25l\u001b[?25hdone\n",
            "  Created wheel for python-snappy: filename=python_snappy-0.5.4-cp36-cp36m-linux_x86_64.whl size=40370 sha256=5193d3ecb1988a615ca996c8a23dbd7dac69321edc26a4716bb5d0d1b6204d77\n",
            "  Stored in directory: /root/.cache/pip/wheels/df/aa/d5/459b834baa4c9f0ea918a38750fb29981e4a01ef523a936c06\n",
            "Successfully built python-snappy\n",
            "Installing collected packages: python-snappy\n",
            "Successfully installed python-snappy-0.5.4\n"
          ],
          "name": "stdout"
        }
      ]
    },
    {
      "cell_type": "code",
      "metadata": {
        "id": "IyPu75lHdTPj",
        "outputId": "77c87258-d51e-4d77-c40b-a25b70cd250a",
        "colab": {
          "base_uri": "https://localhost:8080/",
          "height": 179
        }
      },
      "source": [
        "table = pa.Table.from_pandas(df)\n",
        "pq.write_table(table, 'df_snappy.parquet', compression='snappy')\n",
        "pq.write_table(table, 'df_gzip.parquet', compression='gzip')\n",
        "\n",
        "!ls -lh"
      ],
      "execution_count": 22,
      "outputs": [
        {
          "output_type": "stream",
          "text": [
            "total 224K\n",
            "-rw-r--r-- 1 root root  512 Oct 26 19:46 df.avro\n",
            "-rw-r--r-- 1 root root  891 Oct 26 19:53 df_gzip.parquet\n",
            "-rw-r--r-- 1 root root 2.3K Oct 26 19:46 df.parquet\n",
            "-rw-r--r-- 1 root root 1.4K Oct 26 19:53 df_snappy.parquet\n",
            "-rw-r--r-- 1 root root 196K Oct 26 19:46 df_test.avro\n",
            "-rw-r--r-- 1 root root 1.4K Oct 26 19:46 df_test.parquet\n",
            "drwxr-xr-x 1 root root 4.0K Oct 14 16:31 sample_data\n",
            "-rw-r--r-- 1 root root  337 Oct 26 19:46 weather.avro\n"
          ],
          "name": "stdout"
        }
      ]
    },
    {
      "cell_type": "code",
      "metadata": {
        "id": "1gUAqEZgdxz-"
      },
      "source": [
        ""
      ],
      "execution_count": null,
      "outputs": []
    }
  ]
}